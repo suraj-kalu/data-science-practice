{
 "cells": [
  {
   "cell_type": "markdown",
   "id": "61af8853-7ab2-474d-8244-ce22e5dfd369",
   "metadata": {},
   "source": [
    "## Lending Club\n",
    "Lending Club is a marketplace for personal loans that matches borrowers who are seeking a loan with investors looking to lend money and make a return.\n",
    "\n",
    "Each borrower completes a comprehensive application, providing their past financial history, the reason for the loan, and more. Lending Club evaluates each borrower's credit score using past historical data and their own data science process to assign an interest rate to the borrower. The interest rate is the percent in addition to the requested loan amount the borrower has to pay back.\n",
    "\n",
    "A higher interest rate means that the borrower is a risk and more unlikely to pay back the loan. While a lower interest rate means that the borrower has a good credit history and is more likely to pay back the loan. The interest rates range from 5.32% all the way to 30.99% and each borrower is given a grade according to the interest rate they were assigned. If the borrower accepts the interest rate, then the loan is listed on the Lending Club marketplace.\n",
    "\n",
    "Investors are primarily interested in receiving a return on their investments. Approved loans are listed on the Lending Club website, where qualified investors can browse recently approved loans, the borrower's credit score, the purpose for the loan, and other information from the application. Once they're ready to back a loan, they select the amount of money they want to fund. Once a loan's requested amount is fully funded, the borrower receives the money they requested minus the origination fee that Lending Club charges.\n",
    "\n",
    "The borrower will make monthly payments back to Lending Club either over 36 months or over 60 months. Lending Club redistributes these payments to the investors. This means that investors don't have to wait until the full amount is paid off before they see a return in money. If a loan is fully paid off on time, the investors make a return which corresponds to the interest rate the borrower had to pay in addition to the requested amount. Many loans aren't completely paid off on time and some borrowers default on the loan.\n",
    "\n",
    "### Objective\n",
    "Can we build a machine learning model that can accurately predict if a borrower will pay off their loan on time or not?"
   ]
  },
  {
   "cell_type": "code",
   "execution_count": 1,
   "id": "4e2fdbf1-bc0e-4725-94fb-649564ecc78e",
   "metadata": {},
   "outputs": [],
   "source": [
    "import pandas as pd\n",
    "import numpy as np\n",
    "import matplotlib.pyplot as plt\n",
    "%matplotlib inline\n",
    "plt.style.use('seaborn')"
   ]
  },
  {
   "cell_type": "code",
   "execution_count": 2,
   "id": "b3311383-c702-4b90-91de-ef50465be631",
   "metadata": {},
   "outputs": [
    {
     "data": {
      "text/plain": [
       "(42538, 52)"
      ]
     },
     "execution_count": 2,
     "metadata": {},
     "output_type": "execute_result"
    }
   ],
   "source": [
    "loans_2007 = pd.read_csv(\"loans_2007.csv\", low_memory = False)\n",
    "loans_2007.shape"
   ]
  },
  {
   "cell_type": "code",
   "execution_count": 3,
   "id": "946fe4f0-498c-4077-a866-8e578168a740",
   "metadata": {},
   "outputs": [
    {
     "data": {
      "text/html": [
       "<div>\n",
       "<style scoped>\n",
       "    .dataframe tbody tr th:only-of-type {\n",
       "        vertical-align: middle;\n",
       "    }\n",
       "\n",
       "    .dataframe tbody tr th {\n",
       "        vertical-align: top;\n",
       "    }\n",
       "\n",
       "    .dataframe thead th {\n",
       "        text-align: right;\n",
       "    }\n",
       "</style>\n",
       "<table border=\"1\" class=\"dataframe\">\n",
       "  <thead>\n",
       "    <tr style=\"text-align: right;\">\n",
       "      <th></th>\n",
       "      <th>id</th>\n",
       "      <th>member_id</th>\n",
       "      <th>loan_amnt</th>\n",
       "      <th>funded_amnt</th>\n",
       "      <th>funded_amnt_inv</th>\n",
       "      <th>term</th>\n",
       "      <th>int_rate</th>\n",
       "      <th>installment</th>\n",
       "      <th>grade</th>\n",
       "      <th>sub_grade</th>\n",
       "      <th>...</th>\n",
       "      <th>last_pymnt_amnt</th>\n",
       "      <th>last_credit_pull_d</th>\n",
       "      <th>collections_12_mths_ex_med</th>\n",
       "      <th>policy_code</th>\n",
       "      <th>application_type</th>\n",
       "      <th>acc_now_delinq</th>\n",
       "      <th>chargeoff_within_12_mths</th>\n",
       "      <th>delinq_amnt</th>\n",
       "      <th>pub_rec_bankruptcies</th>\n",
       "      <th>tax_liens</th>\n",
       "    </tr>\n",
       "  </thead>\n",
       "  <tbody>\n",
       "    <tr>\n",
       "      <th>0</th>\n",
       "      <td>1077501</td>\n",
       "      <td>1296599.0</td>\n",
       "      <td>5000.0</td>\n",
       "      <td>5000.0</td>\n",
       "      <td>4975.0</td>\n",
       "      <td>36 months</td>\n",
       "      <td>10.65%</td>\n",
       "      <td>162.87</td>\n",
       "      <td>B</td>\n",
       "      <td>B2</td>\n",
       "      <td>...</td>\n",
       "      <td>171.62</td>\n",
       "      <td>Jun-2016</td>\n",
       "      <td>0.0</td>\n",
       "      <td>1.0</td>\n",
       "      <td>INDIVIDUAL</td>\n",
       "      <td>0.0</td>\n",
       "      <td>0.0</td>\n",
       "      <td>0.0</td>\n",
       "      <td>0.0</td>\n",
       "      <td>0.0</td>\n",
       "    </tr>\n",
       "    <tr>\n",
       "      <th>1</th>\n",
       "      <td>1077430</td>\n",
       "      <td>1314167.0</td>\n",
       "      <td>2500.0</td>\n",
       "      <td>2500.0</td>\n",
       "      <td>2500.0</td>\n",
       "      <td>60 months</td>\n",
       "      <td>15.27%</td>\n",
       "      <td>59.83</td>\n",
       "      <td>C</td>\n",
       "      <td>C4</td>\n",
       "      <td>...</td>\n",
       "      <td>119.66</td>\n",
       "      <td>Sep-2013</td>\n",
       "      <td>0.0</td>\n",
       "      <td>1.0</td>\n",
       "      <td>INDIVIDUAL</td>\n",
       "      <td>0.0</td>\n",
       "      <td>0.0</td>\n",
       "      <td>0.0</td>\n",
       "      <td>0.0</td>\n",
       "      <td>0.0</td>\n",
       "    </tr>\n",
       "    <tr>\n",
       "      <th>2</th>\n",
       "      <td>1077175</td>\n",
       "      <td>1313524.0</td>\n",
       "      <td>2400.0</td>\n",
       "      <td>2400.0</td>\n",
       "      <td>2400.0</td>\n",
       "      <td>36 months</td>\n",
       "      <td>15.96%</td>\n",
       "      <td>84.33</td>\n",
       "      <td>C</td>\n",
       "      <td>C5</td>\n",
       "      <td>...</td>\n",
       "      <td>649.91</td>\n",
       "      <td>Jun-2016</td>\n",
       "      <td>0.0</td>\n",
       "      <td>1.0</td>\n",
       "      <td>INDIVIDUAL</td>\n",
       "      <td>0.0</td>\n",
       "      <td>0.0</td>\n",
       "      <td>0.0</td>\n",
       "      <td>0.0</td>\n",
       "      <td>0.0</td>\n",
       "    </tr>\n",
       "    <tr>\n",
       "      <th>3</th>\n",
       "      <td>1076863</td>\n",
       "      <td>1277178.0</td>\n",
       "      <td>10000.0</td>\n",
       "      <td>10000.0</td>\n",
       "      <td>10000.0</td>\n",
       "      <td>36 months</td>\n",
       "      <td>13.49%</td>\n",
       "      <td>339.31</td>\n",
       "      <td>C</td>\n",
       "      <td>C1</td>\n",
       "      <td>...</td>\n",
       "      <td>357.48</td>\n",
       "      <td>Apr-2016</td>\n",
       "      <td>0.0</td>\n",
       "      <td>1.0</td>\n",
       "      <td>INDIVIDUAL</td>\n",
       "      <td>0.0</td>\n",
       "      <td>0.0</td>\n",
       "      <td>0.0</td>\n",
       "      <td>0.0</td>\n",
       "      <td>0.0</td>\n",
       "    </tr>\n",
       "    <tr>\n",
       "      <th>4</th>\n",
       "      <td>1075358</td>\n",
       "      <td>1311748.0</td>\n",
       "      <td>3000.0</td>\n",
       "      <td>3000.0</td>\n",
       "      <td>3000.0</td>\n",
       "      <td>60 months</td>\n",
       "      <td>12.69%</td>\n",
       "      <td>67.79</td>\n",
       "      <td>B</td>\n",
       "      <td>B5</td>\n",
       "      <td>...</td>\n",
       "      <td>67.79</td>\n",
       "      <td>Jun-2016</td>\n",
       "      <td>0.0</td>\n",
       "      <td>1.0</td>\n",
       "      <td>INDIVIDUAL</td>\n",
       "      <td>0.0</td>\n",
       "      <td>0.0</td>\n",
       "      <td>0.0</td>\n",
       "      <td>0.0</td>\n",
       "      <td>0.0</td>\n",
       "    </tr>\n",
       "  </tbody>\n",
       "</table>\n",
       "<p>5 rows × 52 columns</p>\n",
       "</div>"
      ],
      "text/plain": [
       "        id  member_id  loan_amnt  funded_amnt  funded_amnt_inv        term  \\\n",
       "0  1077501  1296599.0     5000.0       5000.0           4975.0   36 months   \n",
       "1  1077430  1314167.0     2500.0       2500.0           2500.0   60 months   \n",
       "2  1077175  1313524.0     2400.0       2400.0           2400.0   36 months   \n",
       "3  1076863  1277178.0    10000.0      10000.0          10000.0   36 months   \n",
       "4  1075358  1311748.0     3000.0       3000.0           3000.0   60 months   \n",
       "\n",
       "  int_rate  installment grade sub_grade  ... last_pymnt_amnt  \\\n",
       "0   10.65%       162.87     B        B2  ...          171.62   \n",
       "1   15.27%        59.83     C        C4  ...          119.66   \n",
       "2   15.96%        84.33     C        C5  ...          649.91   \n",
       "3   13.49%       339.31     C        C1  ...          357.48   \n",
       "4   12.69%        67.79     B        B5  ...           67.79   \n",
       "\n",
       "  last_credit_pull_d collections_12_mths_ex_med  policy_code application_type  \\\n",
       "0           Jun-2016                        0.0          1.0       INDIVIDUAL   \n",
       "1           Sep-2013                        0.0          1.0       INDIVIDUAL   \n",
       "2           Jun-2016                        0.0          1.0       INDIVIDUAL   \n",
       "3           Apr-2016                        0.0          1.0       INDIVIDUAL   \n",
       "4           Jun-2016                        0.0          1.0       INDIVIDUAL   \n",
       "\n",
       "  acc_now_delinq chargeoff_within_12_mths delinq_amnt pub_rec_bankruptcies  \\\n",
       "0            0.0                      0.0         0.0                  0.0   \n",
       "1            0.0                      0.0         0.0                  0.0   \n",
       "2            0.0                      0.0         0.0                  0.0   \n",
       "3            0.0                      0.0         0.0                  0.0   \n",
       "4            0.0                      0.0         0.0                  0.0   \n",
       "\n",
       "  tax_liens  \n",
       "0       0.0  \n",
       "1       0.0  \n",
       "2       0.0  \n",
       "3       0.0  \n",
       "4       0.0  \n",
       "\n",
       "[5 rows x 52 columns]"
      ]
     },
     "execution_count": 3,
     "metadata": {},
     "output_type": "execute_result"
    }
   ],
   "source": [
    "loans_2007.head()"
   ]
  },
  {
   "cell_type": "markdown",
   "id": "261094b9-9b8b-4aaf-b467-314bcf4663d6",
   "metadata": {},
   "source": [
    "### Data Cleaning"
   ]
  },
  {
   "cell_type": "code",
   "execution_count": 4,
   "id": "8f2943a1-4ded-4a72-aa5b-552e3c2a00c1",
   "metadata": {},
   "outputs": [
    {
     "name": "stdout",
     "output_type": "stream",
     "text": [
      "<class 'pandas.core.frame.DataFrame'>\n",
      "RangeIndex: 42538 entries, 0 to 42537\n",
      "Data columns (total 52 columns):\n",
      " #   Column                      Non-Null Count  Dtype  \n",
      "---  ------                      --------------  -----  \n",
      " 0   id                          42538 non-null  object \n",
      " 1   member_id                   42535 non-null  float64\n",
      " 2   loan_amnt                   42535 non-null  float64\n",
      " 3   funded_amnt                 42535 non-null  float64\n",
      " 4   funded_amnt_inv             42535 non-null  float64\n",
      " 5   term                        42535 non-null  object \n",
      " 6   int_rate                    42535 non-null  object \n",
      " 7   installment                 42535 non-null  float64\n",
      " 8   grade                       42535 non-null  object \n",
      " 9   sub_grade                   42535 non-null  object \n",
      " 10  emp_title                   39909 non-null  object \n",
      " 11  emp_length                  41423 non-null  object \n",
      " 12  home_ownership              42535 non-null  object \n",
      " 13  annual_inc                  42531 non-null  float64\n",
      " 14  verification_status         42535 non-null  object \n",
      " 15  issue_d                     42535 non-null  object \n",
      " 16  loan_status                 42535 non-null  object \n",
      " 17  pymnt_plan                  42535 non-null  object \n",
      " 18  purpose                     42535 non-null  object \n",
      " 19  title                       42522 non-null  object \n",
      " 20  zip_code                    42535 non-null  object \n",
      " 21  addr_state                  42535 non-null  object \n",
      " 22  dti                         42535 non-null  float64\n",
      " 23  delinq_2yrs                 42506 non-null  float64\n",
      " 24  earliest_cr_line            42506 non-null  object \n",
      " 25  inq_last_6mths              42506 non-null  float64\n",
      " 26  open_acc                    42506 non-null  float64\n",
      " 27  pub_rec                     42506 non-null  float64\n",
      " 28  revol_bal                   42535 non-null  float64\n",
      " 29  revol_util                  42445 non-null  object \n",
      " 30  total_acc                   42506 non-null  float64\n",
      " 31  initial_list_status         42535 non-null  object \n",
      " 32  out_prncp                   42535 non-null  float64\n",
      " 33  out_prncp_inv               42535 non-null  float64\n",
      " 34  total_pymnt                 42535 non-null  float64\n",
      " 35  total_pymnt_inv             42535 non-null  float64\n",
      " 36  total_rec_prncp             42535 non-null  float64\n",
      " 37  total_rec_int               42535 non-null  float64\n",
      " 38  total_rec_late_fee          42535 non-null  float64\n",
      " 39  recoveries                  42535 non-null  float64\n",
      " 40  collection_recovery_fee     42535 non-null  float64\n",
      " 41  last_pymnt_d                42452 non-null  object \n",
      " 42  last_pymnt_amnt             42535 non-null  float64\n",
      " 43  last_credit_pull_d          42531 non-null  object \n",
      " 44  collections_12_mths_ex_med  42390 non-null  float64\n",
      " 45  policy_code                 42535 non-null  float64\n",
      " 46  application_type            42535 non-null  object \n",
      " 47  acc_now_delinq              42506 non-null  float64\n",
      " 48  chargeoff_within_12_mths    42390 non-null  float64\n",
      " 49  delinq_amnt                 42506 non-null  float64\n",
      " 50  pub_rec_bankruptcies        41170 non-null  float64\n",
      " 51  tax_liens                   42430 non-null  float64\n",
      "dtypes: float64(30), object(22)\n",
      "memory usage: 16.9+ MB\n"
     ]
    }
   ],
   "source": [
    "loans_2007.info()"
   ]
  },
  {
   "cell_type": "code",
   "execution_count": 5,
   "id": "71e6c914-1399-4be0-a130-4b75606ed460",
   "metadata": {},
   "outputs": [
    {
     "name": "stdout",
     "output_type": "stream",
     "text": [
      "Percentage of missing values in each column\n"
     ]
    },
    {
     "data": {
      "text/plain": [
       "id                            0.000000\n",
       "member_id                     0.007053\n",
       "loan_amnt                     0.007053\n",
       "funded_amnt                   0.007053\n",
       "funded_amnt_inv               0.007053\n",
       "term                          0.007053\n",
       "int_rate                      0.007053\n",
       "installment                   0.007053\n",
       "grade                         0.007053\n",
       "sub_grade                     0.007053\n",
       "emp_title                     6.180356\n",
       "emp_length                    2.621186\n",
       "home_ownership                0.007053\n",
       "annual_inc                    0.016456\n",
       "verification_status           0.007053\n",
       "issue_d                       0.007053\n",
       "loan_status                   0.007053\n",
       "pymnt_plan                    0.007053\n",
       "purpose                       0.007053\n",
       "title                         0.037613\n",
       "zip_code                      0.007053\n",
       "addr_state                    0.007053\n",
       "dti                           0.007053\n",
       "delinq_2yrs                   0.075227\n",
       "earliest_cr_line              0.075227\n",
       "inq_last_6mths                0.075227\n",
       "open_acc                      0.075227\n",
       "pub_rec                       0.075227\n",
       "revol_bal                     0.007053\n",
       "revol_util                    0.218628\n",
       "total_acc                     0.075227\n",
       "initial_list_status           0.007053\n",
       "out_prncp                     0.007053\n",
       "out_prncp_inv                 0.007053\n",
       "total_pymnt                   0.007053\n",
       "total_pymnt_inv               0.007053\n",
       "total_rec_prncp               0.007053\n",
       "total_rec_int                 0.007053\n",
       "total_rec_late_fee            0.007053\n",
       "recoveries                    0.007053\n",
       "collection_recovery_fee       0.007053\n",
       "last_pymnt_d                  0.202172\n",
       "last_pymnt_amnt               0.007053\n",
       "last_credit_pull_d            0.016456\n",
       "collections_12_mths_ex_med    0.347924\n",
       "policy_code                   0.007053\n",
       "application_type              0.007053\n",
       "acc_now_delinq                0.075227\n",
       "chargeoff_within_12_mths      0.347924\n",
       "delinq_amnt                   0.075227\n",
       "pub_rec_bankruptcies          3.215948\n",
       "tax_liens                     0.253891\n",
       "dtype: float64"
      ]
     },
     "execution_count": 5,
     "metadata": {},
     "output_type": "execute_result"
    }
   ],
   "source": [
    "print(\"Percentage of missing values in each column\")\n",
    "(loans_2007.isna().sum()/loans_2007.shape[0]) * 100"
   ]
  },
  {
   "cell_type": "markdown",
   "id": "b149cdaf-5778-4857-8ae3-e14a81979862",
   "metadata": {},
   "source": [
    "Looking at the first 18 columns:\n",
    "| name                | dtype   | first value | description                                                                                                                       |   |\n",
    "|---------------------|---------|-------------|-----------------------------------------------------------------------------------------------------------------------------------|---|\n",
    "| id                  | object  | 1077501     | A unique LC assigned ID for the loan listing.                                                                                     |   |\n",
    "| member_id           | float64 | 1.2966e+06  | A unique LC assigned Id for the borrower member.                                                                                  |   |\n",
    "| loan_amnt           | float64 | 5000        | The listed amount of the loan applied for by the borrower.                                                                        |   |\n",
    "| funded_amnt         | float64 | 5000        | The total amount committed to that loan at that point in time.                                                                    |   |\n",
    "| funded_amnt_inv     | float64 | 49750       | The total amount committed by investors for that loan at that point in time.                                                      |   |\n",
    "| term                | object  | 36 months   | The number of payments on the loan. Values are in months and can be either 36 or 60.                                              |   |\n",
    "| int_rate            | object  | 10.65%      | Interest Rate on the loan                                                                                                         |   |\n",
    "| installment         | float64 | 162.87      | The monthly payment owed by the borrower if the loan originates.                                                                  |   |\n",
    "| grade               | object  | B           | LC assigned loan grade                                                                                                            |   |\n",
    "| sub_grade           | object  | B2          | LC assigned loan subgrade                                                                                                         |   |\n",
    "| emp_title           | object  | NaN         | The job title supplied by the Borrower when applying for the loan.                                                                |   |\n",
    "| emp_length          | object  | 10+ years   | Employment length in years. Possible values are between 0 and 10 where 0 means less than one year and 10 means ten or more years. |   |\n",
    "| home_ownership      | object  | RENT        | The home ownership status provided by the borrower during registration. Our values are: RENT, OWN, MORTGAGE, OTHER.               |   |\n",
    "| annual_inc          | float64 | 24000       | The self-reported annual income provided by the borrower during registration.                                                     |   |\n",
    "| verification_status | object  | Verified    | Indicates if income was verified by LC, not verified, or if the income source was verified                                        |   |\n",
    "| issue_d             | object  | Dec-2011    | The month which the loan was funded                                                                                               |   |\n",
    "| loan_status         | object  | Charged Off | Current status of the loan                                                                                                        |   |\n",
    "| pymnt_plan          | object  | n           | Indicates if a payment plan has been put in place for the loan                                                                    |   |\n",
    "| purpose             | object  | car         | A category provided by the borrower for the loan request.                                                                         |   |"
   ]
  },
  {
   "cell_type": "markdown",
   "id": "c32c2694-8c4e-4c3e-9260-af2716e1a919",
   "metadata": {},
   "source": [
    "- Columns like id and member_id are for uniquely identifying the transaction and borrower respectively.\n",
    "- Grade and sub grade are the categorical columns that consist of the same information as the present in the int_rate.\n",
    "- funded_amnt, funded_amnt_inv, issue_d are columns that can leak the information regarding the loans\n",
    "- emp_title though can be useful to find more information regarding the type of people who tends to borrow more money, we will ignore this column, since it requires addition processing and more data"
   ]
  },
  {
   "cell_type": "code",
   "execution_count": 6,
   "id": "8e448260-82da-45d5-b27b-fdd8aac1681a",
   "metadata": {},
   "outputs": [],
   "source": [
    "loans_2007 = loans_2007.drop(['id', 'member_id', 'grade', 'sub_grade', 'funded_amnt', 'funded_amnt_inv', 'emp_title', 'issue_d'], axis = 1)"
   ]
  },
  {
   "cell_type": "markdown",
   "id": "dc16c41c-8d5a-421e-a07a-80add0aafd6f",
   "metadata": {},
   "source": [
    "For the next 18 columns:\n",
    "| name                | dtype   | first value | description                                                                                                                                                                                              |\n",
    "|---------------------|---------|-------------|----------------------------------------------------------------------------------------------------------------------------------------------------------------------------------------------------------|\n",
    "| title               | object  | Computer    | The loan title provided by the borrower                                                                                                                                                                  |\n",
    "| zip_code            | object  | 860xx       | The first 3 numbers of the zip code provided by the borrower in the loan application.                                                                                                                    |\n",
    "| addr_state          | object  | AZ          | The state provided by the borrower in the loan application                                                                                                                                               |\n",
    "| dti                 | float64 | 27.65       | A ratio calculated using the borrower’s total monthly debt payments on the total debt obligations, excluding mortgage and the requested LC loan, divided by the borrower’s self-reported monthly income. |\n",
    "| delinq_2yrs         | float64 | 0           | The number of 30+ days past-due incidences of delinquency in the borrower's credit file for the past 2 years                                                                                             |\n",
    "| earliest_cr_line    | object  | Jan-1985    | The month the borrower's earliest reported credit line was opened                                                                                                                                        |\n",
    "| inq_last_6mths      | float64 | 1           | The number of inquiries in past 6 months (excluding auto and mortgage inquiries)                                                                                                                         |\n",
    "| open_acc            | float64 | 3           | The number of open credit lines in the borrower's credit file.                                                                                                                                           |\n",
    "| pub_rec             | float64 | 0           | Number of derogatory public records                                                                                                                                                                      |\n",
    "| revol_bal           | float64 | 13648       | Total credit revolving balance                                                                                                                                                                           |\n",
    "| revol_util          | object  | 83.7%       | Revolving line utilization rate, or the amount of credit the borrower is using relative to all available revolving credit.                                                                               |\n",
    "| total_acc           | float64 | 9           | The total number of credit lines currently in the borrower's credit file                                                                                                                                 |\n",
    "| initial_list_status | object  | f           | The initial listing status of the loan. Possible values are – W, F                                                                                                                                       |\n",
    "| out_prncp           | float64 | 0           | Remaining outstanding principal for total amount funded                                                                                                                                                  |\n",
    "| out_prncp_inv       | float64 | 0           | Remaining outstanding principal for portion of total amount funded by investors                                                                                                                          |\n",
    "| total_pymnt         | float64 | 5863.16     | Payments received to date for total amount funded                                                                                                                                                        |\n",
    "| total_pymnt_inv     | float64 | 5833.84     | Payments received to date for portion of total amount funded by investors                                                                                                                                |\n",
    "| total_rec_prncp     | float64 | 5000        | Principal received to date                                                                                                                                                                               |    "
   ]
  },
  {
   "cell_type": "markdown",
   "id": "162963db-5942-4392-ac85-6f17a65981b6",
   "metadata": {},
   "source": [
    "- zip_code shows only first 3 values (5 values in total) and is redundant to the addr_state\n",
    "- out_prncp, out_prncp_inv, total_pymnt, total_pymnt_inv, total_rec_prncp are the infromation obtained once the loan as been provided. So they leak the information."
   ]
  },
  {
   "cell_type": "code",
   "execution_count": 7,
   "id": "2d3cea4f-84b5-4de0-a6a3-f9df24073484",
   "metadata": {},
   "outputs": [],
   "source": [
    "loans_2007 = loans_2007.drop(['zip_code', 'out_prncp', 'out_prncp_inv', 'total_pymnt', 'total_pymnt_inv', 'total_rec_prncp'], axis = 1)"
   ]
  },
  {
   "cell_type": "markdown",
   "id": "fd6a4966-6d19-4dc5-a25e-4c4826952a0c",
   "metadata": {},
   "source": [
    "For the remaining columns\n",
    "| name                       | dtype   | first value | description                                                                                          |\n",
    "|----------------------------|---------|-------------|------------------------------------------------------------------------------------------------------|\n",
    "| total_rec_int              | float64 | 863.16      | Interest received to date                                                                            |\n",
    "| total_rec_late_fee         | float64 | 0           | Late fees received to date                                                                           |\n",
    "| recoveries                 | float64 | 0           | post charge off gross recovery                                                                       |\n",
    "| collection_recovery_fee    | float64 | 0           | post charge off collection fee                                                                       |\n",
    "| last_pymnt_d               | object  | Jan-2015    | Last month payment was received                                                                      |\n",
    "| last_pymnt_amnt            | float64 | 171.62      | Last total payment amount received                                                                   |\n",
    "| last_credit_pull_d         | object  | Jun-2016    | The most recent month LC pulled credit for this loan                                                 |\n",
    "| collections_12_mths_ex_med | float64 | 0           | Number of collections in 12 months excluding medical collections                                     |\n",
    "| policy_code                | float64 | 1           | publicly available policy_code=1 new products not publicly available policy_code=2                   |\n",
    "| application_type           | object  | INDIVIDUAL  | Indicates whether the loan is an individual application or a joint application with two co-borrowers |\n",
    "| acc_now_delinq             | float64 | 0           | The number of accounts on which the borrower is now delinquent.                                      |\n",
    "| chargeoff_within_12_mths   | float64 | 0           | Number of charge-offs within 12 months                                                               |\n",
    "| delinq_amnt                | float64 | 0           | The past-due amount owed for the accounts on which the borrower is now delinquent.                   |\n",
    "| pub_rec_bankruptcies       | float64 | 0           | Number of public record bankruptcies                                                                 |\n",
    "| tax_liens                  | float64 | 0           | Number of tax liens                                                                                  |"
   ]
  },
  {
   "cell_type": "markdown",
   "id": "9eec0845-6cd8-445c-8d55-1b87e3ddae21",
   "metadata": {},
   "source": [
    "total_rec_int, total_rec_late_fee, recoveries, collection_recovery_fee, last_pymnt_d, last_pymnt_amnt columns contain information once loan has been granted and payment from borrower has started so it causes the information leakage."
   ]
  },
  {
   "cell_type": "code",
   "execution_count": 8,
   "id": "29db2f03-c8ff-4fc3-aa83-1eab1af4aa54",
   "metadata": {},
   "outputs": [],
   "source": [
    "loans_2007 = loans_2007.drop(['total_rec_int', 'total_rec_late_fee', 'recoveries',\\\n",
    "                              'collection_recovery_fee', 'last_pymnt_d', 'last_pymnt_amnt'], axis = 1)"
   ]
  },
  {
   "cell_type": "code",
   "execution_count": 9,
   "id": "2ae2c827-0d98-4c2b-97f9-68c89950504c",
   "metadata": {},
   "outputs": [
    {
     "data": {
      "text/plain": [
       "(42538, 32)"
      ]
     },
     "execution_count": 9,
     "metadata": {},
     "output_type": "execute_result"
    }
   ],
   "source": [
    "loans_2007.shape"
   ]
  },
  {
   "cell_type": "markdown",
   "id": "79be05e7-772b-4474-beef-88a9eb694a6a",
   "metadata": {},
   "source": [
    "By understanding the columns, we were able to reduce the number of columns from 52 to 32"
   ]
  },
  {
   "cell_type": "markdown",
   "id": "90c3f027-b315-4da6-b560-a78f18238e17",
   "metadata": {},
   "source": [
    "loan_status column could be used as our target since it contains the infromation about weather loan has been paid or not. But this column contains categorical information in text form. We need to convert it into appropriate numerical form."
   ]
  },
  {
   "cell_type": "code",
   "execution_count": 10,
   "id": "17972c68-b1be-4b15-b118-7bdb501db9bb",
   "metadata": {},
   "outputs": [
    {
     "data": {
      "text/plain": [
       "Fully Paid                                             77.902903\n",
       "Charged Off                                            13.245562\n",
       "Does not meet the credit policy. Status:Fully Paid      4.673798\n",
       "Current                                                 2.259316\n",
       "Does not meet the credit policy. Status:Charged Off     1.789115\n",
       "Late (31-120 days)                                      0.056424\n",
       "In Grace Period                                         0.047020\n",
       "Late (16-30 days)                                       0.018808\n",
       "Default                                                 0.007053\n",
       "Name: loan_status, dtype: float64"
      ]
     },
     "execution_count": 10,
     "metadata": {},
     "output_type": "execute_result"
    }
   ],
   "source": [
    "loans_2007['loan_status'].value_counts(normalize = True) * 100"
   ]
  },
  {
   "cell_type": "markdown",
   "id": "32c94a8a-0de7-41f8-8617-84deef42d4ce",
   "metadata": {},
   "source": [
    "| Loan Status                                         | Meaning                                                                                                                                           |\n",
    "|-----------------------------------------------------|---------------------------------------------------------------------------------------------------------------------------------------------------|\n",
    "| Fully Paid                                          | Loan has been fully paid off.                                                                                                                     |\n",
    "| Charged Off                                         | Loan for which there is no longer a reasonable expectation of further payments.                                                                   |\n",
    "| Does not meet the credit policy. Status:Fully Paid  | While the loan was paid off, the loan application today would no longer meet the credit policy and wouldn't be approved on to the marketplace.    |\n",
    "| Does not meet the credit policy. Status:Charged Off | While the loan was charged off, the loan application today would no longer meet the credit policy and wouldn't be approved on to the marketplace. |\n",
    "| In Grace Period                                     | The loan is past due but still in the grace period of 15 days.                                                                                    |\n",
    "| Late (16-30 days)                                   | Loan hasn't been paid in 16 to 30 days (late on the current payment).                                                                             |\n",
    "| Late (31-120 days)                                  | Loan hasn't been paid in 31 to 120 days (late on the current payment).                                                                            |\n",
    "| Current                                             | Loan is up to date on current payments.                                                                                                           |\n",
    "| Default                                             | Loan is defaulted on and no payment has been made for more than 121 days.                                                                         |"
   ]
  },
  {
   "cell_type": "markdown",
   "id": "454ce62b-072d-49c4-81a4-d8a26a480679",
   "metadata": {},
   "source": [
    "We are more or less interested in finding if the loan will be paid completely of will be charged off. So we will remove other loan status and treat the problem as a binary classifcation problem.\n",
    "Also , fully paid will be represented by 1 while charged off by 0"
   ]
  },
  {
   "cell_type": "code",
   "execution_count": 11,
   "id": "892938cd-a8bd-40f9-90bb-f034d098c8c5",
   "metadata": {},
   "outputs": [],
   "source": [
    "loans_2007 = loans_2007[(loans_2007['loan_status'] == 'Fully Paid') | (loans_2007['loan_status'] == 'Charged Off')]\n",
    "loans_2007['loan_status'] = loans_2007['loan_status'].replace({\n",
    "\"Fully Paid\" : 1,\n",
    "\"Charged Off\" : 0})"
   ]
  },
  {
   "cell_type": "code",
   "execution_count": 12,
   "id": "9710dfa7-bf30-46ea-af53-3eb358630f02",
   "metadata": {},
   "outputs": [
    {
     "data": {
      "text/plain": [
       "(38770, 32)"
      ]
     },
     "execution_count": 12,
     "metadata": {},
     "output_type": "execute_result"
    }
   ],
   "source": [
    "loans_2007.shape"
   ]
  },
  {
   "cell_type": "code",
   "execution_count": 13,
   "id": "dc144752-cadc-4417-84d8-d0d003ce83a6",
   "metadata": {},
   "outputs": [
    {
     "data": {
      "text/plain": [
       "1    33136\n",
       "0     5634\n",
       "Name: loan_status, dtype: int64"
      ]
     },
     "execution_count": 13,
     "metadata": {},
     "output_type": "execute_result"
    }
   ],
   "source": [
    "loans_2007['loan_status'].value_counts()"
   ]
  },
  {
   "cell_type": "markdown",
   "id": "59088165-05dc-459d-8e1f-9d3e5cac560f",
   "metadata": {},
   "source": [
    "There are more records for the fully paid than the charged off. This can cause our model to be more biased towards the fully paid."
   ]
  },
  {
   "cell_type": "markdown",
   "id": "5a8a3b6f-e2b2-4e7c-9f83-ecd1b5eb761e",
   "metadata": {},
   "source": [
    "In order to reduce the number of columns from the dataset, we will remove the columns that contains just single value since they wont contribute much to the model"
   ]
  },
  {
   "cell_type": "code",
   "execution_count": 14,
   "id": "37431377-da45-45e8-8ac5-71ed76c91762",
   "metadata": {},
   "outputs": [
    {
     "name": "stdout",
     "output_type": "stream",
     "text": [
      "Columns that are dropped are: \n",
      "['pymnt_plan', 'initial_list_status', 'collections_12_mths_ex_med', 'policy_code', 'application_type', 'acc_now_delinq', 'chargeoff_within_12_mths', 'delinq_amnt', 'tax_liens']\n"
     ]
    }
   ],
   "source": [
    "drop_columns = []\n",
    "for col in loans_2007.columns:\n",
    "    if len(loans_2007[col].dropna(axis = 0).unique()) == 1:              drop_columns.append(col)\n",
    "loans_2007 = loans_2007.drop(drop_columns, axis = 1)\n",
    "print(\"Columns that are dropped are: \\n{}\".format(drop_columns))"
   ]
  },
  {
   "cell_type": "code",
   "execution_count": null,
   "id": "1165198d-4796-4f63-9e73-17c9b8266675",
   "metadata": {},
   "outputs": [],
   "source": []
  }
 ],
 "metadata": {
  "kernelspec": {
   "display_name": "Python 3 (ipykernel)",
   "language": "python",
   "name": "python3"
  },
  "language_info": {
   "codemirror_mode": {
    "name": "ipython",
    "version": 3
   },
   "file_extension": ".py",
   "mimetype": "text/x-python",
   "name": "python",
   "nbconvert_exporter": "python",
   "pygments_lexer": "ipython3",
   "version": "3.8.10"
  }
 },
 "nbformat": 4,
 "nbformat_minor": 5
}
